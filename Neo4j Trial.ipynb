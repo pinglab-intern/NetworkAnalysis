{
 "cells": [
  {
   "cell_type": "code",
   "execution_count": 1,
   "metadata": {},
   "outputs": [],
   "source": [
    "import pandas as pd\n",
    "import json\n",
    "from neo4j import GraphDatabase"
   ]
  },
  {
   "cell_type": "code",
   "execution_count": 2,
   "metadata": {},
   "outputs": [],
   "source": [
    "uri = \"bolt://localhost:7687\"\n",
    "user = \"neo4j\"\n",
    "password = \"1234\"\n",
    "\n",
    "#driver = GraphDatabase.driver(uri, auth=(user, password))\n",
    "driver = GraphDatabase.driver(uri = \"bolt://localhost:7687\",\\\n",
    "                              auth = (\"neo4j\",\"1234\"))"
   ]
  },
  {
   "cell_type": "markdown",
   "metadata": {},
   "source": [
    "# Movie Network"
   ]
  },
  {
   "cell_type": "markdown",
   "metadata": {},
   "source": [
    "## Find List of Persons"
   ]
  },
  {
   "cell_type": "code",
   "execution_count": 3,
   "metadata": {},
   "outputs": [
    {
     "name": "stdout",
     "output_type": "stream",
     "text": [
      "<Record a=<Node id=1 labels={'Person'} properties={'name': 'Keanu Reeves', 'born': 1964}>>\n",
      "<Record a=<Node id=2 labels={'Person'} properties={'name': 'Carrie-Anne Moss', 'born': 1967}>>\n",
      "<Record a=<Node id=3 labels={'Person'} properties={'name': 'Laurence Fishburne', 'born': 1961}>>\n",
      "<Record a=<Node id=4 labels={'Person'} properties={'name': 'Hugo Weaving', 'born': 1960}>>\n"
     ]
    }
   ],
   "source": [
    "person_query = \"MATCH (a:Person) RETURN a LIMIT 4\"\n",
    "Data = []\n",
    "with driver.session() as session:\n",
    "    info = session.run(person_query)\n",
    "    for item in info:\n",
    "        print(item)"
   ]
  },
  {
   "cell_type": "code",
   "execution_count": 4,
   "metadata": {},
   "outputs": [],
   "source": [
    "person_query = \"MATCH (a:Person) RETURN a.name, a.from, a.title, a.born, a.hobby LIMIT 5\"\n",
    "Data = []\n",
    "with driver.session() as session:\n",
    "    info = session.run(person_query)\n",
    "    for item in info:\n",
    "        #print(item)\n",
    "        Data.append({'name': item.values()[0],\\\n",
    "              \"from\": item.values()[1],\\\n",
    "              \"title\": item.values()[2],\\\n",
    "              \"born\": item.values()[3],\\\n",
    "              \"hobby\": item.values()[4]})"
   ]
  },
  {
   "cell_type": "code",
   "execution_count": 5,
   "metadata": {},
   "outputs": [
    {
     "data": {
      "text/plain": [
       "[{'name': 'Keanu Reeves',\n",
       "  'from': None,\n",
       "  'title': None,\n",
       "  'born': 1964,\n",
       "  'hobby': None},\n",
       " {'name': 'Carrie-Anne Moss',\n",
       "  'from': None,\n",
       "  'title': None,\n",
       "  'born': 1967,\n",
       "  'hobby': None},\n",
       " {'name': 'Laurence Fishburne',\n",
       "  'from': None,\n",
       "  'title': None,\n",
       "  'born': 1961,\n",
       "  'hobby': None},\n",
       " {'name': 'Hugo Weaving',\n",
       "  'from': None,\n",
       "  'title': None,\n",
       "  'born': 1960,\n",
       "  'hobby': None},\n",
       " {'name': 'Lilly Wachowski',\n",
       "  'from': None,\n",
       "  'title': None,\n",
       "  'born': 1967,\n",
       "  'hobby': None}]"
      ]
     },
     "execution_count": 5,
     "metadata": {},
     "output_type": "execute_result"
    }
   ],
   "source": [
    "Data"
   ]
  },
  {
   "cell_type": "markdown",
   "metadata": {},
   "source": [
    "## Finding Shortest Distance Between Two Persons"
   ]
  },
  {
   "cell_type": "code",
   "execution_count": 6,
   "metadata": {},
   "outputs": [
    {
     "name": "stdout",
     "output_type": "stream",
     "text": [
      "<Record a=<Node id=0 labels={'Movie'} properties={'title': 'The Matrix', 'tagline': 'Welcome to the Real World', 'released': 1999}>>\n",
      "Name: <Node id=0 labels={'Movie'} properties={'title': 'The Matrix', 'tagline': 'Welcome to the Real World', 'released': 1999}>\n",
      "<Record a=<Node id=9 labels={'Movie'} properties={'title': 'The Matrix Reloaded', 'tagline': 'Free your mind', 'released': 2003}>>\n",
      "Name: <Node id=9 labels={'Movie'} properties={'title': 'The Matrix Reloaded', 'tagline': 'Free your mind', 'released': 2003}>\n",
      "<Record a=<Node id=10 labels={'Movie'} properties={'title': 'The Matrix Revolutions', 'tagline': 'Everything that has a beginning has an end', 'released': 2003}>>\n",
      "Name: <Node id=10 labels={'Movie'} properties={'title': 'The Matrix Revolutions', 'tagline': 'Everything that has a beginning has an end', 'released': 2003}>\n",
      "<Record a=<Node id=11 labels={'Movie'} properties={'title': \"The Devil's Advocate\", 'tagline': 'Evil has its winning ways', 'released': 1997}>>\n",
      "Name: <Node id=11 labels={'Movie'} properties={'title': \"The Devil's Advocate\", 'tagline': 'Evil has its winning ways', 'released': 1997}>\n"
     ]
    }
   ],
   "source": [
    "movie_query = \"MATCH (a:Movie) RETURN a LIMIT 4\"\n",
    "with driver.session() as session:\n",
    "    info = session.run(movie_query)\n",
    "    for item in info:\n",
    "        print(item)\n",
    "        print('Name:', item.values()[0])"
   ]
  },
  {
   "cell_type": "code",
   "execution_count": 7,
   "metadata": {},
   "outputs": [],
   "source": [
    "person_query = \"MATCH (a:Movie) RETURN a.title, a.tagline, a.released LIMIT 5\"\n",
    "Data = []\n",
    "with driver.session() as session:\n",
    "    info = session.run(person_query)\n",
    "    for item in info:\n",
    "        #print(item)\n",
    "        Data.append({'title': item.values()[0],\\\n",
    "              \"tagline\": item.values()[1],\\\n",
    "              \"released\": item.values()[2]})"
   ]
  },
  {
   "cell_type": "code",
   "execution_count": 8,
   "metadata": {},
   "outputs": [
    {
     "data": {
      "text/plain": [
       "[{'title': 'The Matrix',\n",
       "  'tagline': 'Welcome to the Real World',\n",
       "  'released': 1999},\n",
       " {'title': 'The Matrix Reloaded',\n",
       "  'tagline': 'Free your mind',\n",
       "  'released': 2003},\n",
       " {'title': 'The Matrix Revolutions',\n",
       "  'tagline': 'Everything that has a beginning has an end',\n",
       "  'released': 2003},\n",
       " {'title': \"The Devil's Advocate\",\n",
       "  'tagline': 'Evil has its winning ways',\n",
       "  'released': 1997},\n",
       " {'title': 'A Few Good Men',\n",
       "  'tagline': \"In the heart of the nation's capital, in a courthouse of the U.S. government, one man will stop at nothing to keep his honor, and one will stop at nothing to find the truth.\",\n",
       "  'released': 1992}]"
      ]
     },
     "execution_count": 8,
     "metadata": {},
     "output_type": "execute_result"
    }
   ],
   "source": [
    "Data"
   ]
  },
  {
   "cell_type": "markdown",
   "metadata": {},
   "source": [
    "## Neighborhood"
   ]
  },
  {
   "cell_type": "code",
   "execution_count": 9,
   "metadata": {},
   "outputs": [
    {
     "name": "stdout",
     "output_type": "stream",
     "text": [
      "None\n"
     ]
    }
   ],
   "source": [
    "name = \"Emil\"\n",
    "with driver.session() as session:\n",
    "    child = session.run(\"MATCH (a:person {name: $name}) \"\n",
    "                        \"RETURN a.childs\",name = name)\n",
    "    print(child.single())"
   ]
  }
 ],
 "metadata": {
  "kernelspec": {
   "display_name": "Python 3",
   "language": "python",
   "name": "python3"
  },
  "language_info": {
   "codemirror_mode": {
    "name": "ipython",
    "version": 3
   },
   "file_extension": ".py",
   "mimetype": "text/x-python",
   "name": "python",
   "nbconvert_exporter": "python",
   "pygments_lexer": "ipython3",
   "version": "3.7.4"
  }
 },
 "nbformat": 4,
 "nbformat_minor": 2
}
