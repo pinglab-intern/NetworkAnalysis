{
 "cells": [
  {
   "cell_type": "code",
   "execution_count": 1,
   "metadata": {},
   "outputs": [],
   "source": [
    "import networkx as nx\n",
    "import json as json\n",
    "import matplotlib.pyplot as plt"
   ]
  },
  {
   "cell_type": "code",
   "execution_count": 2,
   "metadata": {},
   "outputs": [],
   "source": [
    "G = nx.Graph()"
   ]
  },
  {
   "cell_type": "code",
   "execution_count": 3,
   "metadata": {},
   "outputs": [],
   "source": [
    "with open(\"Data/MMS_rv.json\", 'r') as f:\n",
    "    Data =  json.load(f)"
   ]
  },
  {
   "cell_type": "code",
   "execution_count": 4,
   "metadata": {},
   "outputs": [
    {
     "data": {
      "text/plain": [
       "{'ID': '1192168487',\n",
       " 'code': 'QC68',\n",
       " 'title': 'Family history of consanguinity',\n",
       " 'defn': 'NA',\n",
       " 'childs': [],\n",
       " 'parents': ['1143554706'],\n",
       " 'index': [{'indexTerm_title': 'Family history of consanguinity',\n",
       "   'indexTerm_foundation_id': 'NA'}],\n",
       " 'pcs': [],\n",
       " 'is_leaf_node': True,\n",
       " 'has_children': 0,\n",
       " 'has_parents': 1}"
      ]
     },
     "execution_count": 4,
     "metadata": {},
     "output_type": "execute_result"
    }
   ],
   "source": [
    "Data[0]"
   ]
  },
  {
   "cell_type": "code",
   "execution_count": 5,
   "metadata": {},
   "outputs": [],
   "source": [
    "for doc in Data[0:100]:\n",
    "    G.add_node(doc['ID'],\\\n",
    "               title = doc['title'],\\\n",
    "               code = doc['code'],\\\n",
    "               defn = doc['defn'],\\\n",
    "               childs = doc['childs'],\\\n",
    "               parents = doc['parents'])"
   ]
  },
  {
   "cell_type": "code",
   "execution_count": 6,
   "metadata": {},
   "outputs": [],
   "source": [
    "for doc in Data[0:100]:\n",
    "    childs = doc['childs']\n",
    "    doc_id = doc['ID']\n",
    "    for c_id in childs:\n",
    "        G.add_edge(doc_id, c_id)"
   ]
  },
  {
   "cell_type": "code",
   "execution_count": 7,
   "metadata": {},
   "outputs": [
    {
     "data": {
      "text/plain": [
       "<matplotlib.collections.PathCollection at 0xa1ea39590>"
      ]
     },
     "execution_count": 7,
     "metadata": {},
     "output_type": "execute_result"
    },
    {
     "data": {
      "image/png": "[encoded data removed]",
      "text/plain": [
       "<Figure size 432x288 with 1 Axes>"
      ]
     },
     "metadata": {},
     "output_type": "display_data"
    }
   ],
   "source": [
    "nx.draw_networkx_nodes(G, pos = nx.spring_layout(G), labels = False)\n",
    "#plt.subplot(122)"
   ]
  },
  {
   "cell_type": "code",
   "execution_count": 13,
   "metadata": {},
   "outputs": [
    {
     "data": {
      "text/plain": [
       "['1192168487',\n",
       " '251307303',\n",
       " '2074348881',\n",
       " '894847549',\n",
       " '1393951214',\n",
       " 'other',\n",
       " '1406539027',\n",
       " '543698811',\n",
       " '1669585012',\n",
       " '454986913',\n",
       " '964051881',\n",
       " '1392036490',\n",
       " '154004890',\n",
       " '353696620',\n",
       " 'unspecified',\n",
       " '1424380846',\n",
       " '969187352',\n",
       " '136743240',\n",
       " '148600922',\n",
       " '540179717',\n",
       " '763108833',\n",
       " '355012880',\n",
       " '1489834241',\n",
       " '2050634532',\n",
       " '1803031185',\n",
       " '1348470541',\n",
       " '1503157331',\n",
       " '208369079',\n",
       " '945310233',\n",
       " '577085257',\n",
       " '404270024',\n",
       " '1863255438',\n",
       " '1811342866',\n",
       " '392885481',\n",
       " '705272016',\n",
       " '1922337992',\n",
       " '1224331149',\n",
       " '511255546',\n",
       " '751881015',\n",
       " '850824593',\n",
       " '572503172',\n",
       " '2093072437',\n",
       " '1305477993',\n",
       " '859399201',\n",
       " '274176',\n",
       " '2132305270',\n",
       " '1447079126',\n",
       " '2017227771',\n",
       " '1157081315',\n",
       " '2122661793',\n",
       " '1086222649',\n",
       " '251529460',\n",
       " '682625970',\n",
       " '1088155670',\n",
       " '171439936',\n",
       " '111368149',\n",
       " '1688221375',\n",
       " '1776736608',\n",
       " '515025290',\n",
       " '1948516760',\n",
       " '3275753',\n",
       " '1385767764',\n",
       " '963759045',\n",
       " '320149782',\n",
       " '1508454837',\n",
       " '1748704485',\n",
       " '1717433410',\n",
       " '1083196357',\n",
       " '1014239569',\n",
       " '1288604967',\n",
       " '528118622',\n",
       " '1514311652',\n",
       " '104110637',\n",
       " '532318549',\n",
       " '1429148255',\n",
       " '299909297',\n",
       " '1237329935',\n",
       " '190565750',\n",
       " '537826614',\n",
       " '488011738',\n",
       " '874042445',\n",
       " '615253204',\n",
       " '228504985',\n",
       " '352005007',\n",
       " '303384120',\n",
       " '1404674818',\n",
       " '1189946017',\n",
       " '1434662571',\n",
       " '1147513794',\n",
       " '818477887',\n",
       " '353696620/other',\n",
       " '353696620/unspecified',\n",
       " '1919411043',\n",
       " '848364569',\n",
       " '1424380846/other',\n",
       " '1424380846/unspecified',\n",
       " '612232309',\n",
       " '1390019541',\n",
       " '714117534',\n",
       " '829235056',\n",
       " '1087365696',\n",
       " '417015801',\n",
       " '718468094',\n",
       " '6464079',\n",
       " '583527617',\n",
       " '136743240/other',\n",
       " '1175712203',\n",
       " '592985183',\n",
       " '1475701922',\n",
       " '851353908',\n",
       " '1095774880',\n",
       " '605814582',\n",
       " '1354149835',\n",
       " '905798239',\n",
       " '470773651',\n",
       " '540179717/other',\n",
       " '540179717/unspecified',\n",
       " '361875781',\n",
       " '986063444',\n",
       " '1348470541/other',\n",
       " '1348470541/unspecified',\n",
       " '1214476919',\n",
       " '371759764',\n",
       " '1037432324',\n",
       " '37985178',\n",
       " '2024370153',\n",
       " '2018548221',\n",
       " '391697730',\n",
       " '1921218805',\n",
       " '1930207562',\n",
       " '673923148',\n",
       " '955573234',\n",
       " '1628320490',\n",
       " '52186342',\n",
       " '2008095771',\n",
       " '318427535',\n",
       " '850824593/other',\n",
       " '1542272036',\n",
       " '1869739196',\n",
       " '1086222649/other',\n",
       " '1086222649/unspecified',\n",
       " '1395868017',\n",
       " '434790028',\n",
       " '3275753/other',\n",
       " '3275753/unspecified',\n",
       " '1888209399',\n",
       " '1791817517',\n",
       " '1080592090',\n",
       " '528118622/other',\n",
       " '528118622/unspecified',\n",
       " '484990365',\n",
       " '2040762377',\n",
       " '219070712',\n",
       " '1749355874',\n",
       " '1862716937',\n",
       " '532318549/other',\n",
       " '532318549/unspecified',\n",
       " '393185699',\n",
       " '1399661582',\n",
       " '309473869',\n",
       " '1331537078',\n",
       " '110574174',\n",
       " '537826614/other',\n",
       " '537826614/unspecified']"
      ]
     },
     "execution_count": 13,
     "metadata": {},
     "output_type": "execute_result"
    }
   ],
   "source": [
    "list(G.nodes)"
   ]
  },
  {
   "cell_type": "code",
   "execution_count": null,
   "metadata": {},
   "outputs": [],
   "source": []
  }
 ],
 "metadata": {
  "kernelspec": {
   "display_name": "Python 3",
   "language": "python",
   "name": "python3"
  },
  "language_info": {
   "codemirror_mode": {
    "name": "ipython",
    "version": 3
   },
   "file_extension": ".py",
   "mimetype": "text/x-python",
   "name": "python",
   "nbconvert_exporter": "python",
   "pygments_lexer": "ipython3",
   "version": "3.7.4"
  }
 },
 "nbformat": 4,
 "nbformat_minor": 2
}
