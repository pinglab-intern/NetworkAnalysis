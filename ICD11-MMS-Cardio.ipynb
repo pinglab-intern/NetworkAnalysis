{
 "cells": [
  {
   "cell_type": "markdown",
   "metadata": {},
   "source": [
    "### ICD-11 Downloads"
   ]
  },
  {
   "cell_type": "markdown",
   "metadata": {},
   "source": [
    "#### info"
   ]
  },
  {
   "cell_type": "markdown",
   "metadata": {},
   "source": [
    "By default one client Id and client secret is provided to be able to authenticate your software to use the ICD APIs. You may however, add more clients or remove some of them.\n",
    "(IMPORTANT!!! If a client key is removed, clients configured with this Id/secret will not be able access the API anymore)\n",
    "\n",
    "    ClientId: 3aa381e1-9cb7-4ca3-b76b-369ac503a7be_92312ec2-5934-4119-ba40-94496df9099b\n",
    "    ClientSecret: xn95v5XDolkqwJd/KwhLsNMdOto9GL1aVqiuhvRy1oM="
   ]
  },
  {
   "cell_type": "code",
   "execution_count": 1,
   "metadata": {},
   "outputs": [],
   "source": [
    "import requests\n",
    "import json"
   ]
  },
  {
   "cell_type": "code",
   "execution_count": 2,
   "metadata": {},
   "outputs": [],
   "source": [
    "ClientId = \"3aa381e1-9cb7-4ca3-b76b-369ac503a7be_92312ec2-5934-4119-ba40-94496df9099b\"\n",
    "ClientSecret = \"xn95v5XDolkqwJd/KwhLsNMdOto9GL1aVqiuhvRy1oM=\""
   ]
  },
  {
   "cell_type": "code",
   "execution_count": 3,
   "metadata": {},
   "outputs": [],
   "source": [
    "token_endpoint = 'https://icdaccessmanagement.who.int/connect/token'\n",
    "client_id = ClientId\n",
    "client_secret = ClientSecret\n",
    "scope = 'icdapi_access'\n",
    "grant_type = 'client_credentials'"
   ]
  },
  {
   "cell_type": "markdown",
   "metadata": {},
   "source": [
    "#### Get the OAUTH2 token"
   ]
  },
  {
   "cell_type": "code",
   "execution_count": 4,
   "metadata": {},
   "outputs": [],
   "source": [
    "# set data to post\n",
    "payload = {'client_id': client_id, \n",
    "\t   \t   'client_secret': client_secret, \n",
    "           'scope': scope, \n",
    "           'grant_type': grant_type}\n",
    "           \n",
    "# make request\n",
    "r = requests.post(token_endpoint, data=payload, verify=True).json()\n",
    "token = r['access_token']"
   ]
  },
  {
   "cell_type": "markdown",
   "metadata": {},
   "source": [
    "#### Access ICD API"
   ]
  },
  {
   "cell_type": "code",
   "execution_count": 5,
   "metadata": {},
   "outputs": [],
   "source": [
    "uri = 'https://id.who.int/icd/entity'\n",
    "\n",
    "# HTTP header fields to set\n",
    "\n",
    "headers = {'Authorization':  'Bearer '+token, \n",
    "           'Accept': 'application/json', \n",
    "           'Accept-Language': 'en',\n",
    "           'API-Version': 'v2'}\n",
    "           \n",
    "# make request           \n",
    "r = requests.get(uri, headers=headers, verify=True)\n",
    "\n",
    "# print the result\n",
    "# print (r.text) "
   ]
  },
  {
   "cell_type": "code",
   "execution_count": 6,
   "metadata": {},
   "outputs": [
    {
     "name": "stdout",
     "output_type": "stream",
     "text": [
      "{'@context': 'http://id.who.int/icd/contexts/contextForTopLevel.json', '@id': 'http://id.who.int/icd/entity', 'title': {'@language': 'en', '@value': 'International Classification of Diseases 11th Revision'}, 'releaseId': '2019-04', 'releaseDate': '2019-04-06', 'child': ['http://id.who.int/icd/entity/1435254666', 'http://id.who.int/icd/entity/1630407678', 'http://id.who.int/icd/entity/1766440644', 'http://id.who.int/icd/entity/1954798891', 'http://id.who.int/icd/entity/21500692', 'http://id.who.int/icd/entity/334423054', 'http://id.who.int/icd/entity/274880002', 'http://id.who.int/icd/entity/1296093776', 'http://id.who.int/icd/entity/868865918', 'http://id.who.int/icd/entity/1218729044', 'http://id.who.int/icd/entity/426429380', 'http://id.who.int/icd/entity/197934298', 'http://id.who.int/icd/entity/1256772020', 'http://id.who.int/icd/entity/1639304259', 'http://id.who.int/icd/entity/1473673350', 'http://id.who.int/icd/entity/30659757', 'http://id.who.int/icd/entity/577470983', 'http://id.who.int/icd/entity/714000734', 'http://id.who.int/icd/entity/1306203631', 'http://id.who.int/icd/entity/223744320', 'http://id.who.int/icd/entity/1843895818', 'http://id.who.int/icd/entity/435227771', 'http://id.who.int/icd/entity/850137482', 'http://id.who.int/icd/entity/1249056269', 'http://id.who.int/icd/entity/1596590595', 'http://id.who.int/icd/entity/718687701', 'http://id.who.int/icd/entity/231358748', 'http://id.who.int/icd/entity/979408586', 'http://id.who.int/icd/entity/1801349023'], 'browserUrl': 'NA'}\n"
     ]
    }
   ],
   "source": [
    "print(r.json())"
   ]
  },
  {
   "cell_type": "code",
   "execution_count": 7,
   "metadata": {},
   "outputs": [],
   "source": [
    "D = r.json()\n",
    "ROOTS = []\n",
    "for item in D['child']:\n",
    "    ROOTS.append(item.split(\"/\")[-1])\n",
    "with open(\"ROOTS.json\", 'w') as ff:\n",
    "    json.dump(ROOTS,ff)"
   ]
  },
  {
   "cell_type": "code",
   "execution_count": 8,
   "metadata": {},
   "outputs": [
    {
     "data": {
      "text/plain": [
       "['1435254666',\n",
       " '1630407678',\n",
       " '1766440644',\n",
       " '1954798891',\n",
       " '21500692',\n",
       " '334423054',\n",
       " '274880002',\n",
       " '1296093776',\n",
       " '868865918',\n",
       " '1218729044',\n",
       " '426429380',\n",
       " '197934298',\n",
       " '1256772020',\n",
       " '1639304259',\n",
       " '1473673350',\n",
       " '30659757',\n",
       " '577470983',\n",
       " '714000734',\n",
       " '1306203631',\n",
       " '223744320',\n",
       " '1843895818',\n",
       " '435227771',\n",
       " '850137482',\n",
       " '1249056269',\n",
       " '1596590595',\n",
       " '718687701',\n",
       " '231358748',\n",
       " '979408586',\n",
       " '1801349023']"
      ]
     },
     "execution_count": 8,
     "metadata": {},
     "output_type": "execute_result"
    }
   ],
   "source": [
    "ROOTS"
   ]
  },
  {
   "cell_type": "markdown",
   "metadata": {},
   "source": [
    "### MMS"
   ]
  },
  {
   "cell_type": "code",
   "execution_count": 9,
   "metadata": {},
   "outputs": [
    {
     "name": "stdout",
     "output_type": "stream",
     "text": [
      "{'@context': 'http://id.who.int/icd/contexts/contextForFoundationEntity.json', '@id': 'http://id.who.int/icd/entity/1435254666', 'parent': ['http://id.who.int/icd/entity'], 'child': ['http://id.who.int/icd/entity/588616678', 'http://id.who.int/icd/entity/1904876434', 'http://id.who.int/icd/entity/979278646', 'http://id.who.int/icd/entity/1539889147', 'http://id.who.int/icd/entity/1412960686', 'http://id.who.int/icd/entity/1935092859', 'http://id.who.int/icd/entity/487269828', 'http://id.who.int/icd/entity/1000704511', 'http://id.who.int/icd/entity/1104303944', 'http://id.who.int/icd/entity/1585949804', 'http://id.who.int/icd/entity/1959883044', 'http://id.who.int/icd/entity/921595235', 'http://id.who.int/icd/entity/1251496839', 'http://id.who.int/icd/entity/1136802325', 'http://id.who.int/icd/entity/145723401', 'http://id.who.int/icd/entity/985510409', 'http://id.who.int/icd/entity/1646490591', 'http://id.who.int/icd/entity/1939815950', 'http://id.who.int/icd/entity/255141529', 'http://id.who.int/icd/entity/293771399', 'http://id.who.int/icd/entity/5960175', 'http://id.who.int/icd/entity/911707612', 'http://id.who.int/icd/entity/1965146397', 'http://id.who.int/icd/entity/142052508', 'http://id.who.int/icd/entity/1760597414', 'http://id.who.int/icd/entity/458687859', 'http://id.who.int/icd/entity/2143513892'], 'browserUrl': 'NA', 'title': {'@language': 'en', '@value': 'Certain infectious or parasitic diseases'}, 'synonym': [{'label': {'@language': 'en', '@value': 'infection NOS'}}, {'label': {'@language': 'en', '@value': 'infection of unspecified organism and unspecified site'}}, {'label': {'@language': 'en', '@value': 'infectious disease NOS'}}, {'label': {'@language': 'en', '@value': 'infection unknown'}}, {'label': {'@language': 'en', '@value': 'infection process NOS'}}], 'definition': {'@language': 'en', '@value': 'This chapter includes certain conditions caused by a pathogenic organism or microorganism, such as a bacterium, virus, parasite, or fungus.'}, 'exclusion': [{'label': {'@language': 'en', '@value': 'Infection arising from device, implant or graft, not elsewhere classified'}, 'foundationReference': 'http://id.who.int/icd/entity/1612485599'}]}\n"
     ]
    }
   ],
   "source": [
    "uri = 'https://id.who.int/icd/entity/1435254666'\n",
    "\n",
    "# HTTP header fields to set\n",
    "\n",
    "headers = {'Authorization':  'Bearer '+token, \n",
    "           'Accept': 'application/json', \n",
    "           'Accept-Language': 'en',\n",
    "           'API-Version': 'v2'}\n",
    "           \n",
    "# make request           \n",
    "r = requests.get(uri, headers=headers, verify=True)\n",
    "\n",
    "# print the result\n",
    "# print (r.text) \n",
    "print(r.json())"
   ]
  },
  {
   "cell_type": "code",
   "execution_count": 10,
   "metadata": {},
   "outputs": [
    {
     "name": "stdout",
     "output_type": "stream",
     "text": [
      "{'@context': 'http://id.who.int/icd/contexts/contextForLinearizationEntity.json', '@id': 'http://id.who.int/icd/release/11/2019-04/mms/135352227', 'parent': ['http://id.who.int/icd/release/11/2019-04/mms/588616678'], 'child': ['http://id.who.int/icd/release/11/2019-04/mms/257068234', 'http://id.who.int/icd/release/11/2019-04/mms/416025325', 'http://id.who.int/icd/release/11/2019-04/mms/2080365623', 'http://id.who.int/icd/release/11/2019-04/mms/344162786', 'http://id.who.int/icd/release/11/2019-04/mms/250688797', 'http://id.who.int/icd/release/11/2019-04/mms/1000894786', 'http://id.who.int/icd/release/11/2019-04/mms/794462570', 'http://id.who.int/icd/release/11/2019-04/mms/1528414070', 'http://id.who.int/icd/release/11/2019-04/mms/1780040028', 'http://id.who.int/icd/release/11/2019-04/mms/515117475', 'http://id.who.int/icd/release/11/2019-04/mms/135352227/other', 'http://id.who.int/icd/release/11/2019-04/mms/135352227/unspecified'], 'browserUrl': 'https://icd.who.int/browse11/l-m/en#/http%3a%2f%2fid.who.int%2ficd%2fentity%2f135352227', 'code': '', 'source': 'http://id.who.int/icd/entity/135352227', 'classKind': 'block', 'blockId': 'BlockL2-1A0', 'codeRange': '1A00-1A0Z', 'foundationChildElsewhere': [{'label': {'@language': 'en', '@value': 'Abdominal actinomycosis'}, 'foundationReference': 'http://id.who.int/icd/entity/2143116824', 'linearizationReference': 'http://id.who.int/icd/release/11/2019-04/mms/2143116824'}, {'label': {'@language': 'en', '@value': 'Listerial gastroenteritis'}, 'foundationReference': 'http://id.who.int/icd/entity/974967764', 'linearizationReference': 'http://id.who.int/icd/release/11/2019-04/mms/419706488/other'}], 'title': {'@language': 'en', '@value': 'Bacterial intestinal infections'}, 'definition': {'@language': 'en', '@value': 'Any condition of the intestines, caused by an infection with a bacterial source.'}, 'exclusion': [{'label': {'@language': 'en', '@value': 'Bacterial foodborne intoxications'}, 'foundationReference': 'http://id.who.int/icd/entity/1834648119', 'linearizationReference': 'http://id.who.int/icd/release/11/2019-04/mms/1834648119'}]}\n"
     ]
    }
   ],
   "source": [
    "uri = 'http://id.who.int/icd/release/11/2019-04/mms/135352227'\n",
    "\n",
    "# HTTP header fields to set\n",
    "\n",
    "headers = {'Authorization':  'Bearer '+token, \n",
    "           'Accept': 'application/json', \n",
    "           'Accept-Language': 'en',\n",
    "           'API-Version': 'v2'}\n",
    "           \n",
    "# make request           \n",
    "r = requests.get(uri, headers=headers, verify=True)\n",
    "\n",
    "# print the result\n",
    "# print (r.text) \n",
    "print(r.json())"
   ]
  },
  {
   "cell_type": "markdown",
   "metadata": {},
   "source": [
    "### Cardio"
   ]
  },
  {
   "cell_type": "code",
   "execution_count": 11,
   "metadata": {},
   "outputs": [],
   "source": [
    "import pandas as pd"
   ]
  },
  {
   "cell_type": "code",
   "execution_count": 12,
   "metadata": {},
   "outputs": [],
   "source": [
    "DF = pd.read_excel(\"/Users/raghavagovil/Desktop/UCLA Classes/Quarter 8/Stats 199/simpletabulation.xlsx\")"
   ]
  },
  {
   "cell_type": "code",
   "execution_count": 13,
   "metadata": {},
   "outputs": [
    {
     "data": {
      "text/html": [
       "<div>\n",
       "<style scoped>\n",
       "    .dataframe tbody tr th:only-of-type {\n",
       "        vertical-align: middle;\n",
       "    }\n",
       "\n",
       "    .dataframe tbody tr th {\n",
       "        vertical-align: top;\n",
       "    }\n",
       "\n",
       "    .dataframe thead th {\n",
       "        text-align: right;\n",
       "    }\n",
       "</style>\n",
       "<table border=\"1\" class=\"dataframe\">\n",
       "  <thead>\n",
       "    <tr style=\"text-align: right;\">\n",
       "      <th></th>\n",
       "      <th>Foundation URI</th>\n",
       "      <th>Linearization (release) URI</th>\n",
       "      <th>Code</th>\n",
       "      <th>BlockId</th>\n",
       "      <th>Title</th>\n",
       "      <th>ClassKind</th>\n",
       "      <th>DepthInKind</th>\n",
       "      <th>IsResidual</th>\n",
       "      <th>PrimaryLocation</th>\n",
       "      <th>ChapterNo</th>\n",
       "      <th>BrowserLink</th>\n",
       "      <th>isLeaf</th>\n",
       "      <th>noOfNonResidualChildren</th>\n",
       "      <th>Version:2019 Apr 06 - 22:00 UTC</th>\n",
       "    </tr>\n",
       "  </thead>\n",
       "  <tbody>\n",
       "    <tr>\n",
       "      <td>0</td>\n",
       "      <td>http://id.who.int/icd/entity/1435254666</td>\n",
       "      <td>http://id.who.int/icd/release/11/2019-04/mms/1...</td>\n",
       "      <td>NaN</td>\n",
       "      <td>NaN</td>\n",
       "      <td>Certain infectious or parasitic diseases</td>\n",
       "      <td>chapter</td>\n",
       "      <td>1</td>\n",
       "      <td>False</td>\n",
       "      <td>True</td>\n",
       "      <td>01</td>\n",
       "      <td>browser</td>\n",
       "      <td>False</td>\n",
       "      <td>22</td>\n",
       "      <td>NaN</td>\n",
       "    </tr>\n",
       "  </tbody>\n",
       "</table>\n",
       "</div>"
      ],
      "text/plain": [
       "                            Foundation URI  \\\n",
       "0  http://id.who.int/icd/entity/1435254666   \n",
       "\n",
       "                         Linearization (release) URI Code BlockId  \\\n",
       "0  http://id.who.int/icd/release/11/2019-04/mms/1...  NaN     NaN   \n",
       "\n",
       "                                      Title ClassKind  DepthInKind  \\\n",
       "0  Certain infectious or parasitic diseases   chapter            1   \n",
       "\n",
       "   IsResidual  PrimaryLocation ChapterNo BrowserLink  isLeaf  \\\n",
       "0       False             True        01     browser   False   \n",
       "\n",
       "   noOfNonResidualChildren  Version:2019 Apr 06 - 22:00 UTC  \n",
       "0                       22                              NaN  "
      ]
     },
     "execution_count": 13,
     "metadata": {},
     "output_type": "execute_result"
    }
   ],
   "source": [
    "DF.head(1)"
   ]
  },
  {
   "cell_type": "code",
   "execution_count": 14,
   "metadata": {},
   "outputs": [
    {
     "data": {
      "text/plain": [
       "Index(['Foundation URI', 'Linearization (release) URI', 'Code', 'BlockId',\n",
       "       'Title', 'ClassKind', 'DepthInKind', 'IsResidual', 'PrimaryLocation',\n",
       "       'ChapterNo', 'BrowserLink', 'isLeaf', 'noOfNonResidualChildren',\n",
       "       'Version:2019 Apr 06 - 22:00 UTC'],\n",
       "      dtype='object')"
      ]
     },
     "execution_count": 14,
     "metadata": {},
     "output_type": "execute_result"
    }
   ],
   "source": [
    "DF.columns"
   ]
  },
  {
   "cell_type": "code",
   "execution_count": 15,
   "metadata": {},
   "outputs": [
    {
     "data": {
      "text/plain": [
       "(33459, 14)"
      ]
     },
     "execution_count": 15,
     "metadata": {},
     "output_type": "execute_result"
    }
   ],
   "source": [
    "DF.shape"
   ]
  },
  {
   "cell_type": "code",
   "execution_count": 16,
   "metadata": {},
   "outputs": [],
   "source": [
    "URI = list(DF['Linearization (release) URI'])"
   ]
  },
  {
   "cell_type": "code",
   "execution_count": 18,
   "metadata": {},
   "outputs": [
    {
     "name": "stdout",
     "output_type": "stream",
     "text": [
      "{'@context': 'http://id.who.int/icd/contexts/contextForLinearizationEntity.json', '@id': 'http://id.who.int/icd/release/11/2019-04/mms/1435254666', 'parent': ['http://id.who.int/icd/release/11/2019-04/mms'], 'child': ['http://id.who.int/icd/release/11/2019-04/mms/588616678', 'http://id.who.int/icd/release/11/2019-04/mms/1904876434', 'http://id.who.int/icd/release/11/2019-04/mms/979278646', 'http://id.who.int/icd/release/11/2019-04/mms/1539889147', 'http://id.who.int/icd/release/11/2019-04/mms/1412960686', 'http://id.who.int/icd/release/11/2019-04/mms/1935092859', 'http://id.who.int/icd/release/11/2019-04/mms/487269828', 'http://id.who.int/icd/release/11/2019-04/mms/1000704511', 'http://id.who.int/icd/release/11/2019-04/mms/1104303944', 'http://id.who.int/icd/release/11/2019-04/mms/1585949804', 'http://id.who.int/icd/release/11/2019-04/mms/1959883044', 'http://id.who.int/icd/release/11/2019-04/mms/921595235', 'http://id.who.int/icd/release/11/2019-04/mms/1251496839', 'http://id.who.int/icd/release/11/2019-04/mms/1136802325', 'http://id.who.int/icd/release/11/2019-04/mms/145723401', 'http://id.who.int/icd/release/11/2019-04/mms/985510409', 'http://id.who.int/icd/release/11/2019-04/mms/1646490591', 'http://id.who.int/icd/release/11/2019-04/mms/1939815950', 'http://id.who.int/icd/release/11/2019-04/mms/255141529', 'http://id.who.int/icd/release/11/2019-04/mms/293771399', 'http://id.who.int/icd/release/11/2019-04/mms/1760597414', 'http://id.who.int/icd/release/11/2019-04/mms/458687859', 'http://id.who.int/icd/release/11/2019-04/mms/1435254666/unspecified'], 'browserUrl': 'https://icd.who.int/browse11/l-m/en#/http%3a%2f%2fid.who.int%2ficd%2fentity%2f1435254666', 'code': '01', 'source': 'http://id.who.int/icd/entity/1435254666', 'classKind': 'chapter', 'foundationChildElsewhere': [{'label': {'@language': 'en', '@value': 'Infections of the foetus or newborn'}, 'foundationReference': 'http://id.who.int/icd/entity/911707612', 'linearizationReference': 'http://id.who.int/icd/release/11/2019-04/mms/911707612'}, {'label': {'@language': 'en', '@value': 'Human prion diseases'}, 'foundationReference': 'http://id.who.int/icd/entity/1965146397', 'linearizationReference': 'http://id.who.int/icd/release/11/2019-04/mms/1965146397'}, {'label': {'@language': 'en', '@value': 'Pneumonia'}, 'foundationReference': 'http://id.who.int/icd/entity/142052508', 'linearizationReference': 'http://id.who.int/icd/release/11/2019-04/mms/142052508'}], 'title': {'@language': 'en', '@value': 'Certain infectious or parasitic diseases'}, 'definition': {'@language': 'en', '@value': 'This chapter includes certain conditions caused by a pathogenic organism or microorganism, such as a bacterium, virus, parasite, or fungus.'}, 'exclusion': [{'label': {'@language': 'en', '@value': 'Infection arising from device, implant or graft, not elsewhere classified'}, 'foundationReference': 'http://id.who.int/icd/entity/1612485599', 'linearizationReference': 'http://id.who.int/icd/release/11/2019-04/mms/1612485599'}]}\n"
     ]
    }
   ],
   "source": [
    "headers = {'Authorization':  'Bearer '+token, \n",
    "           'Accept': 'application/json', \n",
    "           'Accept-Language': 'en',\n",
    "           'API-Version': 'v2'}\n",
    "           \n",
    "# make request           \n",
    "r = requests.get(URI[0], headers=headers, verify=True)\n",
    "\n",
    "# print the result\n",
    "# print (r.text) \n",
    "print(r.json())"
   ]
  },
  {
   "cell_type": "code",
   "execution_count": 28,
   "metadata": {},
   "outputs": [
    {
     "name": "stdout",
     "output_type": "stream",
     "text": [
      "10 done!\n",
      "20 done!\n",
      "30 done!\n",
      "40 done!\n",
      "50 done!\n",
      "60 done!\n",
      "70 done!\n",
      "80 done!\n",
      "90 done!\n",
      "100 done!\n"
     ]
    }
   ],
   "source": [
    "file = open(\"Data/mms.json\",'w')\n",
    "i = 0\n",
    "for t in range(100):\n",
    "    \n",
    "    i = i+1\n",
    "    # HTTP header fields to set\n",
    "\n",
    "    headers = {'Authorization':  'Bearer '+token, \n",
    "           'Accept': 'application/json', \n",
    "           'Accept-Language': 'en',\n",
    "           'API-Version': 'v2'}\n",
    "           \n",
    "    # make request           \n",
    "    r = requests.get(URI[t], headers=headers, verify=True)\n",
    "\n",
    "    # print the result\n",
    "    # print (r.text) \n",
    "    #print(r.json())\n",
    "    json.dump(r.json(),file)\n",
    "    file.write('\\n')\n",
    "    if i%10 ==0:\n",
    "        print(i, \"done!\")"
   ]
  },
  {
   "cell_type": "code",
   "execution_count": null,
   "metadata": {},
   "outputs": [],
   "source": []
  }
 ],
 "metadata": {
  "kernelspec": {
   "display_name": "Python 3",
   "language": "python",
   "name": "python3"
  },
  "language_info": {
   "codemirror_mode": {
    "name": "ipython",
    "version": 3
   },
   "file_extension": ".py",
   "mimetype": "text/x-python",
   "name": "python",
   "nbconvert_exporter": "python",
   "pygments_lexer": "ipython3",
   "version": "3.7.4"
  }
 },
 "nbformat": 4,
 "nbformat_minor": 2
}
