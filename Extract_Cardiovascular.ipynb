{
 "cells": [
  {
   "cell_type": "code",
   "execution_count": 1,
   "metadata": {},
   "outputs": [],
   "source": [
    "import networkx as nx\n",
    "import json as json"
   ]
  },
  {
   "cell_type": "code",
   "execution_count": 2,
   "metadata": {},
   "outputs": [],
   "source": [
    "with open(\"Data/MMS_rv.json\", 'r') as f:\n",
    "    Data =  json.load(f)"
   ]
  },
  {
   "cell_type": "code",
   "execution_count": 3,
   "metadata": {},
   "outputs": [
    {
     "data": {
      "text/plain": [
       "list"
      ]
     },
     "execution_count": 3,
     "metadata": {},
     "output_type": "execute_result"
    }
   ],
   "source": [
    "type(Data)"
   ]
  },
  {
   "cell_type": "code",
   "execution_count": 4,
   "metadata": {},
   "outputs": [
    {
     "data": {
      "text/plain": [
       "{'ID': '1192168487',\n",
       " 'code': 'QC68',\n",
       " 'title': 'Family history of consanguinity',\n",
       " 'defn': 'NA',\n",
       " 'childs': [],\n",
       " 'parents': ['1143554706'],\n",
       " 'index': [{'indexTerm_title': 'Family history of consanguinity',\n",
       "   'indexTerm_foundation_id': 'NA'}],\n",
       " 'pcs': [],\n",
       " 'is_leaf_node': True,\n",
       " 'has_children': 0,\n",
       " 'has_parents': 1}"
      ]
     },
     "execution_count": 4,
     "metadata": {},
     "output_type": "execute_result"
    }
   ],
   "source": [
    "Data[0]"
   ]
  },
  {
   "cell_type": "code",
   "execution_count": 5,
   "metadata": {},
   "outputs": [],
   "source": [
    "for doc in Data:\n",
    "    if(doc['ID'] == \"other\"):\n",
    "        del(doc)\n",
    "    elif(\"other\" in doc['ID'] or \"unspecified\" in doc['ID']):\n",
    "        pos = doc['ID'].find(\"/\")\n",
    "        doc['ID'] = doc['ID'][:pos]\n",
    "    else:\n",
    "        continue"
   ]
  },
  {
   "cell_type": "code",
   "execution_count": 6,
   "metadata": {},
   "outputs": [],
   "source": [
    "cardio_list = list()"
   ]
  },
  {
   "cell_type": "code",
   "execution_count": 7,
   "metadata": {},
   "outputs": [],
   "source": [
    "def extract_cardio(cardio):\n",
    "    for doc in Data:\n",
    "        if(doc['ID'] == cardio):\n",
    "            cardio_list.append(doc)\n",
    "            l = len(doc['childs'])\n",
    "            if(l > 0):\n",
    "                for i in range(l):\n",
    "                    extract_cardio(doc['childs'][i])"
   ]
  },
  {
   "cell_type": "code",
   "execution_count": 8,
   "metadata": {},
   "outputs": [],
   "source": [
    "for doc in Data:\n",
    "    if(doc['ID'] == \"426429380\"):\n",
    "        l = len(doc['childs'])\n",
    "        if(l > 0):\n",
    "            cardio_list.append(doc)\n",
    "            for i in range(l):\n",
    "                extract_cardio(doc['childs'][i])"
   ]
  },
  {
   "cell_type": "code",
   "execution_count": 9,
   "metadata": {},
   "outputs": [
    {
     "name": "stdout",
     "output_type": "stream",
     "text": [
      "{'ID': '426429380', 'code': '11', 'title': 'Diseases of the circulatory system', 'defn': 'This refers to diseases of the organ system that passes nutrients (such as amino acids, electrolytes and lymph), gases, hormones, blood cells, etc. to and from cells in the body to help fight diseases, stabilize body temperature and pH, and to maintain homeostasis.', 'childs': ['539975693', '966120194', '924915526', '1663360295', '1964269418', '1059873720', '1703442464', '1296696944', '162683166', '1121431779', '291726710', '2135151223', '1457291912', '1458683894', '1164983645', '723430526', '1025888387', '1651137927', '1925333068', '426429380/other', '426429380/unspecified'], 'parents': ['mms'], 'index': [{'indexTerm_title': 'Other specified lower limb atherosclerosis', 'indexTerm_foundation_id': 'NA'}, {'indexTerm_title': 'Atherosclerosis of common or profunda femoral artery', 'indexTerm_foundation_id': '205736095'}, {'indexTerm_title': 'Atherosclerosis of superficial femoral artery', 'indexTerm_foundation_id': '866035180'}, {'indexTerm_title': 'Atherosclerosis of popliteal artery', 'indexTerm_foundation_id': '953806875'}, {'indexTerm_title': 'Atherosclerosis of crural artery', 'indexTerm_foundation_id': '442114688'}, {'indexTerm_title': 'Lower limb atherosclerosis with rest pain', 'indexTerm_foundation_id': '77628773'}, {'indexTerm_title': 'Peripheral vascular disease with rest pain', 'indexTerm_foundation_id': '77628773'}], 'pcs': [], 'is_leaf_node': False, 'has_children': 21, 'has_parents': 1}\n"
     ]
    }
   ],
   "source": [
    "print(cardio_list[0])"
   ]
  },
  {
   "cell_type": "code",
   "execution_count": 10,
   "metadata": {},
   "outputs": [],
   "source": [
    "import networkx as nx"
   ]
  },
  {
   "cell_type": "code",
   "execution_count": 11,
   "metadata": {},
   "outputs": [],
   "source": [
    "G = nx.Graph()\n",
    "for doc in cardio_list:\n",
    "    G.add_node(doc['ID'],\\\n",
    "               title = doc['title'],\\\n",
    "               code = doc['code'],\\\n",
    "               defn = doc['defn'],\\\n",
    "               childs = doc['childs'],\\\n",
    "               parents = doc['parents'])\n",
    "    \n",
    "for doc in cardio_list:\n",
    "    childs = doc['childs']\n",
    "    doc_id = doc['ID']\n",
    "    for c_id in childs:\n",
    "        G.add_edge(doc_id, c_id)"
   ]
  },
  {
   "cell_type": "code",
   "execution_count": 12,
   "metadata": {},
   "outputs": [],
   "source": [
    "ROOT = [n for n in G.neighbors(\"426429380\")]\n",
    "INFO = []\n",
    "for node in ROOT:\n",
    "        try:\n",
    "            INFO.append({\"ID\": node,\\\n",
    "                     \"title\": G.nodes()[node][\"title\"],\\\n",
    "                     \"defn\":  G.nodes()[node]['defn'],\\\n",
    "                     \"child\": len([n for n in G.neighbors(node)])})\n",
    "        except:\n",
    "\n",
    "             INFO.append({\"ID\": node,\\\n",
    "                     \"title\": \"NA\",\\\n",
    "                     \"defn\":\"NA\",\\\n",
    "                     \"child\": \"NA\"})"
   ]
  },
  {
   "cell_type": "code",
   "execution_count": 13,
   "metadata": {},
   "outputs": [
    {
     "data": {
      "text/plain": [
       "'Name: \\nType: Graph\\nNumber of nodes: 596\\nNumber of edges: 595\\nAverage degree:   1.9966'"
      ]
     },
     "execution_count": 13,
     "metadata": {},
     "output_type": "execute_result"
    }
   ],
   "source": [
    "nx.info(G)"
   ]
  },
  {
   "cell_type": "code",
   "execution_count": 14,
   "metadata": {},
   "outputs": [],
   "source": [
    "id_list = list()\n",
    "for doc in cardio_list:\n",
    "    id_list.append(doc['ID'])"
   ]
  },
  {
   "cell_type": "code",
   "execution_count": 15,
   "metadata": {},
   "outputs": [
    {
     "data": {
      "text/plain": [
       "['426429380', '539975693', '966120194', '924915526', '761947693']"
      ]
     },
     "execution_count": 15,
     "metadata": {},
     "output_type": "execute_result"
    }
   ],
   "source": [
    "id_list[0:5]"
   ]
  },
  {
   "cell_type": "code",
   "execution_count": 16,
   "metadata": {},
   "outputs": [
    {
     "data": {
      "text/plain": [
       "['426429380', '539975693']"
      ]
     },
     "execution_count": 16,
     "metadata": {},
     "output_type": "execute_result"
    }
   ],
   "source": [
    "nx.shortest_path(G, \"426429380\", id_list[1])"
   ]
  },
  {
   "cell_type": "code",
   "execution_count": 17,
   "metadata": {},
   "outputs": [],
   "source": [
    "paths = []\n",
    "for id in id_list:\n",
    "    paths.append({\"Path\" : nx.shortest_path(G, \"426429380\", id)})"
   ]
  },
  {
   "cell_type": "code",
   "execution_count": 18,
   "metadata": {},
   "outputs": [
    {
     "data": {
      "text/plain": [
       "408"
      ]
     },
     "execution_count": 18,
     "metadata": {},
     "output_type": "execute_result"
    }
   ],
   "source": [
    "len(paths)"
   ]
  },
  {
   "cell_type": "code",
   "execution_count": 19,
   "metadata": {},
   "outputs": [
    {
     "data": {
      "text/plain": [
       "[{'Path': ['426429380']},\n",
       " {'Path': ['426429380', '539975693']},\n",
       " {'Path': ['426429380', '966120194']},\n",
       " {'Path': ['426429380', '924915526']},\n",
       " {'Path': ['426429380', '924915526', '761947693']}]"
      ]
     },
     "execution_count": 19,
     "metadata": {},
     "output_type": "execute_result"
    }
   ],
   "source": [
    "paths[0:5]"
   ]
  },
  {
   "cell_type": "code",
   "execution_count": 20,
   "metadata": {},
   "outputs": [
    {
     "data": {
      "text/plain": [
       "<Figure size 800x800 with 1 Axes>"
      ]
     },
     "metadata": {},
     "output_type": "display_data"
    }
   ],
   "source": [
    "import matplotlib.pyplot as plt\n",
    "import warnings\n",
    "warnings.filterwarnings(\"ignore\", category=UserWarning)\n",
    "plt.figure(figsize = [8,8])\n",
    "pos = nx.spring_layout(G)\n",
    "nx.draw(G,pos, \n",
    "        with_labels=False, \n",
    "        font_weight='bold',\n",
    "        font_size = 20,\n",
    "        node_size=1,\n",
    "        node_color='blue',\n",
    "        alpha = 0.5)\n",
    "plt.show()"
   ]
  },
  {
   "cell_type": "code",
   "execution_count": 21,
   "metadata": {},
   "outputs": [
    {
     "data": {
      "image/png": "[encoded data removed]",
      "text/plain": [
       "<Figure size 720x720 with 1 Axes>"
      ]
     },
     "metadata": {},
     "output_type": "display_data"
    }
   ],
   "source": [
    "plt.figure(figsize = [10,10])\n",
    "\n",
    "pos = nx.spring_layout(G)  # positions for all nodes\n",
    "\n",
    "\n",
    "for node in G.nodes():\n",
    "    nx.draw_networkx_nodes(G,pos,\n",
    "                       node_color='blue',\n",
    "                       node_size=50,\n",
    "                       alpha=0.4)\n",
    "for edge in G.edges():\n",
    "    nx.draw_networkx_edges(G,pos,\n",
    "                       edgelist=[edge],\n",
    "                       width=2, alpha=0.5, edge_color='black')\n",
    "plt.show()"
   ]
  },
  {
   "cell_type": "code",
   "execution_count": 22,
   "metadata": {},
   "outputs": [],
   "source": [
    "import pandas as pd"
   ]
  },
  {
   "cell_type": "code",
   "execution_count": 23,
   "metadata": {},
   "outputs": [],
   "source": [
    "icd_dist = pd.DataFrame(columns = ['ICD11_Code', 'Number_of_Children'])\n",
    "for doc in paths[1:]:\n",
    "    icd_dist = icd_dist.append({'ICD11_Code': doc['Path'][1], 'Number_of_Children': (len(doc['Path']) - 1)}, ignore_index = True)"
   ]
  },
  {
   "cell_type": "code",
   "execution_count": 24,
   "metadata": {},
   "outputs": [
    {
     "data": {
      "text/html": [
       "<div>\n",
       "<style scoped>\n",
       "    .dataframe tbody tr th:only-of-type {\n",
       "        vertical-align: middle;\n",
       "    }\n",
       "\n",
       "    .dataframe tbody tr th {\n",
       "        vertical-align: top;\n",
       "    }\n",
       "\n",
       "    .dataframe thead th {\n",
       "        text-align: right;\n",
       "    }\n",
       "</style>\n",
       "<table border=\"1\" class=\"dataframe\">\n",
       "  <thead>\n",
       "    <tr style=\"text-align: right;\">\n",
       "      <th></th>\n",
       "      <th>ICD11_Code</th>\n",
       "      <th>Number_of_Children</th>\n",
       "    </tr>\n",
       "  </thead>\n",
       "  <tbody>\n",
       "    <tr>\n",
       "      <td>0</td>\n",
       "      <td>539975693</td>\n",
       "      <td>1</td>\n",
       "    </tr>\n",
       "    <tr>\n",
       "      <td>1</td>\n",
       "      <td>966120194</td>\n",
       "      <td>1</td>\n",
       "    </tr>\n",
       "    <tr>\n",
       "      <td>2</td>\n",
       "      <td>924915526</td>\n",
       "      <td>1</td>\n",
       "    </tr>\n",
       "    <tr>\n",
       "      <td>3</td>\n",
       "      <td>924915526</td>\n",
       "      <td>2</td>\n",
       "    </tr>\n",
       "    <tr>\n",
       "      <td>4</td>\n",
       "      <td>924915526</td>\n",
       "      <td>3</td>\n",
       "    </tr>\n",
       "    <tr>\n",
       "      <td>5</td>\n",
       "      <td>924915526</td>\n",
       "      <td>3</td>\n",
       "    </tr>\n",
       "    <tr>\n",
       "      <td>6</td>\n",
       "      <td>924915526</td>\n",
       "      <td>3</td>\n",
       "    </tr>\n",
       "    <tr>\n",
       "      <td>7</td>\n",
       "      <td>924915526</td>\n",
       "      <td>2</td>\n",
       "    </tr>\n",
       "    <tr>\n",
       "      <td>8</td>\n",
       "      <td>924915526</td>\n",
       "      <td>2</td>\n",
       "    </tr>\n",
       "    <tr>\n",
       "      <td>9</td>\n",
       "      <td>924915526</td>\n",
       "      <td>2</td>\n",
       "    </tr>\n",
       "  </tbody>\n",
       "</table>\n",
       "</div>"
      ],
      "text/plain": [
       "  ICD11_Code Number_of_Children\n",
       "0  539975693                  1\n",
       "1  966120194                  1\n",
       "2  924915526                  1\n",
       "3  924915526                  2\n",
       "4  924915526                  3\n",
       "5  924915526                  3\n",
       "6  924915526                  3\n",
       "7  924915526                  2\n",
       "8  924915526                  2\n",
       "9  924915526                  2"
      ]
     },
     "execution_count": 24,
     "metadata": {},
     "output_type": "execute_result"
    }
   ],
   "source": [
    "icd_dist.head(10)"
   ]
  },
  {
   "cell_type": "code",
   "execution_count": 25,
   "metadata": {},
   "outputs": [
    {
     "data": {
      "text/html": [
       "<div>\n",
       "<style scoped>\n",
       "    .dataframe tbody tr th:only-of-type {\n",
       "        vertical-align: middle;\n",
       "    }\n",
       "\n",
       "    .dataframe tbody tr th {\n",
       "        vertical-align: top;\n",
       "    }\n",
       "\n",
       "    .dataframe thead th {\n",
       "        text-align: right;\n",
       "    }\n",
       "</style>\n",
       "<table border=\"1\" class=\"dataframe\">\n",
       "  <thead>\n",
       "    <tr style=\"text-align: right;\">\n",
       "      <th></th>\n",
       "      <th>Number_of_Children</th>\n",
       "    </tr>\n",
       "    <tr>\n",
       "      <th>ICD11_Code</th>\n",
       "      <th></th>\n",
       "    </tr>\n",
       "  </thead>\n",
       "  <tbody>\n",
       "    <tr>\n",
       "      <td>1025888387</td>\n",
       "      <td>21</td>\n",
       "    </tr>\n",
       "    <tr>\n",
       "      <td>1059873720</td>\n",
       "      <td>15</td>\n",
       "    </tr>\n",
       "    <tr>\n",
       "      <td>1121431779</td>\n",
       "      <td>46</td>\n",
       "    </tr>\n",
       "    <tr>\n",
       "      <td>1164983645</td>\n",
       "      <td>71</td>\n",
       "    </tr>\n",
       "    <tr>\n",
       "      <td>1296696944</td>\n",
       "      <td>10</td>\n",
       "    </tr>\n",
       "    <tr>\n",
       "      <td>1457291912</td>\n",
       "      <td>62</td>\n",
       "    </tr>\n",
       "    <tr>\n",
       "      <td>1458683894</td>\n",
       "      <td>9</td>\n",
       "    </tr>\n",
       "    <tr>\n",
       "      <td>162683166</td>\n",
       "      <td>4</td>\n",
       "    </tr>\n",
       "    <tr>\n",
       "      <td>1651137927</td>\n",
       "      <td>1</td>\n",
       "    </tr>\n",
       "    <tr>\n",
       "      <td>1663360295</td>\n",
       "      <td>3</td>\n",
       "    </tr>\n",
       "    <tr>\n",
       "      <td>1703442464</td>\n",
       "      <td>22</td>\n",
       "    </tr>\n",
       "    <tr>\n",
       "      <td>1925333068</td>\n",
       "      <td>38</td>\n",
       "    </tr>\n",
       "    <tr>\n",
       "      <td>1964269418</td>\n",
       "      <td>26</td>\n",
       "    </tr>\n",
       "    <tr>\n",
       "      <td>2135151223</td>\n",
       "      <td>29</td>\n",
       "    </tr>\n",
       "    <tr>\n",
       "      <td>291726710</td>\n",
       "      <td>3</td>\n",
       "    </tr>\n",
       "    <tr>\n",
       "      <td>539975693</td>\n",
       "      <td>1</td>\n",
       "    </tr>\n",
       "    <tr>\n",
       "      <td>723430526</td>\n",
       "      <td>36</td>\n",
       "    </tr>\n",
       "    <tr>\n",
       "      <td>924915526</td>\n",
       "      <td>9</td>\n",
       "    </tr>\n",
       "    <tr>\n",
       "      <td>966120194</td>\n",
       "      <td>1</td>\n",
       "    </tr>\n",
       "  </tbody>\n",
       "</table>\n",
       "</div>"
      ],
      "text/plain": [
       "            Number_of_Children\n",
       "ICD11_Code                    \n",
       "1025888387                  21\n",
       "1059873720                  15\n",
       "1121431779                  46\n",
       "1164983645                  71\n",
       "1296696944                  10\n",
       "1457291912                  62\n",
       "1458683894                   9\n",
       "162683166                    4\n",
       "1651137927                   1\n",
       "1663360295                   3\n",
       "1703442464                  22\n",
       "1925333068                  38\n",
       "1964269418                  26\n",
       "2135151223                  29\n",
       "291726710                    3\n",
       "539975693                    1\n",
       "723430526                   36\n",
       "924915526                    9\n",
       "966120194                    1"
      ]
     },
     "execution_count": 25,
     "metadata": {},
     "output_type": "execute_result"
    }
   ],
   "source": [
    "g1 = icd_dist.groupby(['ICD11_Code']).count()\n",
    "g1"
   ]
  },
  {
   "cell_type": "code",
   "execution_count": 26,
   "metadata": {},
   "outputs": [],
   "source": [
    "icd_title = pd.DataFrame(columns = ['ICD11_Code', 'Code', 'Title'])\n",
    "for doc in cardio_list:\n",
    "    icd_title = icd_title.append({'ICD11_Code': doc['ID'], 'Code': doc['code'], 'Title': doc['title']}, ignore_index = True)"
   ]
  },
  {
   "cell_type": "code",
   "execution_count": 27,
   "metadata": {},
   "outputs": [
    {
     "data": {
      "text/html": [
       "<div>\n",
       "<style scoped>\n",
       "    .dataframe tbody tr th:only-of-type {\n",
       "        vertical-align: middle;\n",
       "    }\n",
       "\n",
       "    .dataframe tbody tr th {\n",
       "        vertical-align: top;\n",
       "    }\n",
       "\n",
       "    .dataframe thead th {\n",
       "        text-align: right;\n",
       "    }\n",
       "</style>\n",
       "<table border=\"1\" class=\"dataframe\">\n",
       "  <thead>\n",
       "    <tr style=\"text-align: right;\">\n",
       "      <th></th>\n",
       "      <th>ICD11_Code</th>\n",
       "      <th>Code</th>\n",
       "      <th>Title</th>\n",
       "    </tr>\n",
       "  </thead>\n",
       "  <tbody>\n",
       "    <tr>\n",
       "      <td>0</td>\n",
       "      <td>426429380</td>\n",
       "      <td>11</td>\n",
       "      <td>Diseases of the circulatory system</td>\n",
       "    </tr>\n",
       "    <tr>\n",
       "      <td>1</td>\n",
       "      <td>539975693</td>\n",
       "      <td></td>\n",
       "      <td>Neoplasms of the circulatory system</td>\n",
       "    </tr>\n",
       "    <tr>\n",
       "      <td>2</td>\n",
       "      <td>966120194</td>\n",
       "      <td></td>\n",
       "      <td>Developmental anomalies of the circulatory system</td>\n",
       "    </tr>\n",
       "    <tr>\n",
       "      <td>3</td>\n",
       "      <td>924915526</td>\n",
       "      <td></td>\n",
       "      <td>Hypertensive diseases</td>\n",
       "    </tr>\n",
       "    <tr>\n",
       "      <td>4</td>\n",
       "      <td>761947693</td>\n",
       "      <td>BA00</td>\n",
       "      <td>Essential hypertension</td>\n",
       "    </tr>\n",
       "  </tbody>\n",
       "</table>\n",
       "</div>"
      ],
      "text/plain": [
       "  ICD11_Code  Code                                              Title\n",
       "0  426429380    11                 Diseases of the circulatory system\n",
       "1  539975693                      Neoplasms of the circulatory system\n",
       "2  966120194        Developmental anomalies of the circulatory system\n",
       "3  924915526                                    Hypertensive diseases\n",
       "4  761947693  BA00                             Essential hypertension"
      ]
     },
     "execution_count": 27,
     "metadata": {},
     "output_type": "execute_result"
    }
   ],
   "source": [
    "icd_title.head()"
   ]
  },
  {
   "cell_type": "code",
   "execution_count": 28,
   "metadata": {},
   "outputs": [
    {
     "data": {
      "text/plain": [
       "pandas.core.frame.DataFrame"
      ]
     },
     "execution_count": 28,
     "metadata": {},
     "output_type": "execute_result"
    }
   ],
   "source": [
    "type(g1)"
   ]
  },
  {
   "cell_type": "code",
   "execution_count": 32,
   "metadata": {},
   "outputs": [
    {
     "data": {
      "text/html": [
       "<div>\n",
       "<style scoped>\n",
       "    .dataframe tbody tr th:only-of-type {\n",
       "        vertical-align: middle;\n",
       "    }\n",
       "\n",
       "    .dataframe tbody tr th {\n",
       "        vertical-align: top;\n",
       "    }\n",
       "\n",
       "    .dataframe thead th {\n",
       "        text-align: right;\n",
       "    }\n",
       "</style>\n",
       "<table border=\"1\" class=\"dataframe\">\n",
       "  <thead>\n",
       "    <tr style=\"text-align: right;\">\n",
       "      <th></th>\n",
       "      <th>ICD11_Code</th>\n",
       "      <th>Code</th>\n",
       "      <th>Title</th>\n",
       "      <th>Number_of_Children</th>\n",
       "    </tr>\n",
       "  </thead>\n",
       "  <tbody>\n",
       "    <tr>\n",
       "      <td>0</td>\n",
       "      <td>426429380</td>\n",
       "      <td>11</td>\n",
       "      <td>Diseases of the circulatory system</td>\n",
       "      <td>0</td>\n",
       "    </tr>\n",
       "    <tr>\n",
       "      <td>1</td>\n",
       "      <td>539975693</td>\n",
       "      <td></td>\n",
       "      <td>Neoplasms of the circulatory system</td>\n",
       "      <td>1</td>\n",
       "    </tr>\n",
       "    <tr>\n",
       "      <td>2</td>\n",
       "      <td>966120194</td>\n",
       "      <td></td>\n",
       "      <td>Developmental anomalies of the circulatory system</td>\n",
       "      <td>1</td>\n",
       "    </tr>\n",
       "    <tr>\n",
       "      <td>3</td>\n",
       "      <td>924915526</td>\n",
       "      <td></td>\n",
       "      <td>Hypertensive diseases</td>\n",
       "      <td>9</td>\n",
       "    </tr>\n",
       "    <tr>\n",
       "      <td>4</td>\n",
       "      <td>761947693</td>\n",
       "      <td>BA00</td>\n",
       "      <td>Essential hypertension</td>\n",
       "      <td>0</td>\n",
       "    </tr>\n",
       "    <tr>\n",
       "      <td>5</td>\n",
       "      <td>1917449952</td>\n",
       "      <td>BA00.0</td>\n",
       "      <td>Combined diastolic and systolic hypertension</td>\n",
       "      <td>0</td>\n",
       "    </tr>\n",
       "    <tr>\n",
       "      <td>6</td>\n",
       "      <td>1461918574</td>\n",
       "      <td>BA00.1</td>\n",
       "      <td>Isolated diastolic hypertension</td>\n",
       "      <td>0</td>\n",
       "    </tr>\n",
       "    <tr>\n",
       "      <td>7</td>\n",
       "      <td>1788452129</td>\n",
       "      <td>BA00.2</td>\n",
       "      <td>Isolated systolic hypertension</td>\n",
       "      <td>0</td>\n",
       "    </tr>\n",
       "    <tr>\n",
       "      <td>8</td>\n",
       "      <td>1210166201</td>\n",
       "      <td>BA01</td>\n",
       "      <td>Hypertensive heart disease</td>\n",
       "      <td>0</td>\n",
       "    </tr>\n",
       "    <tr>\n",
       "      <td>9</td>\n",
       "      <td>1015872326</td>\n",
       "      <td>BA02</td>\n",
       "      <td>Hypertensive renal disease</td>\n",
       "      <td>0</td>\n",
       "    </tr>\n",
       "  </tbody>\n",
       "</table>\n",
       "</div>"
      ],
      "text/plain": [
       "   ICD11_Code    Code                                              Title  \\\n",
       "0   426429380      11                 Diseases of the circulatory system   \n",
       "1   539975693                        Neoplasms of the circulatory system   \n",
       "2   966120194          Developmental anomalies of the circulatory system   \n",
       "3   924915526                                      Hypertensive diseases   \n",
       "4   761947693    BA00                             Essential hypertension   \n",
       "5  1917449952  BA00.0       Combined diastolic and systolic hypertension   \n",
       "6  1461918574  BA00.1                    Isolated diastolic hypertension   \n",
       "7  1788452129  BA00.2                     Isolated systolic hypertension   \n",
       "8  1210166201    BA01                         Hypertensive heart disease   \n",
       "9  1015872326    BA02                         Hypertensive renal disease   \n",
       "\n",
       "   Number_of_Children  \n",
       "0                   0  \n",
       "1                   1  \n",
       "2                   1  \n",
       "3                   9  \n",
       "4                   0  \n",
       "5                   0  \n",
       "6                   0  \n",
       "7                   0  \n",
       "8                   0  \n",
       "9                   0  "
      ]
     },
     "execution_count": 32,
     "metadata": {},
     "output_type": "execute_result"
    }
   ],
   "source": [
    "final = icd_title.merge(g1, on='ICD11_Code', how = 'left')\n",
    "final[['Number_of_Children']] = final[['Number_of_Children']].fillna(value = 0)\n",
    "final[['Number_of_Children']] = final[['Number_of_Children']].round(decimals = 0)\n",
    "pd.options.display.float_format = '{:,.0f}'.format\n",
    "final.head(10)"
   ]
  },
  {
   "cell_type": "code",
   "execution_count": null,
   "metadata": {},
   "outputs": [],
   "source": []
  }
 ],
 "metadata": {
  "kernelspec": {
   "display_name": "Python 3",
   "language": "python",
   "name": "python3"
  },
  "language_info": {
   "codemirror_mode": {
    "name": "ipython",
    "version": 3
   },
   "file_extension": ".py",
   "mimetype": "text/x-python",
   "name": "python",
   "nbconvert_exporter": "python",
   "pygments_lexer": "ipython3",
   "version": "3.7.4"
  }
 },
 "nbformat": 4,
 "nbformat_minor": 2
}
