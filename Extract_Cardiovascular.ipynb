{
 "cells": [
  {
   "cell_type": "code",
   "execution_count": 1,
   "metadata": {},
   "outputs": [],
   "source": [
    "import networkx as nx\n",
    "import json as json"
   ]
  },
  {
   "cell_type": "code",
   "execution_count": 2,
   "metadata": {},
   "outputs": [],
   "source": [
    "with open(\"Data/MMS_rv.json\", 'r') as f:\n",
    "    Data =  json.load(f)"
   ]
  },
  {
   "cell_type": "code",
   "execution_count": 3,
   "metadata": {},
   "outputs": [
    {
     "data": {
      "text/plain": [
       "list"
      ]
     },
     "execution_count": 3,
     "metadata": {},
     "output_type": "execute_result"
    }
   ],
   "source": [
    "type(Data)"
   ]
  },
  {
   "cell_type": "code",
   "execution_count": 4,
   "metadata": {},
   "outputs": [
    {
     "data": {
      "text/plain": [
       "{'ID': '1192168487',\n",
       " 'code': 'QC68',\n",
       " 'title': 'Family history of consanguinity',\n",
       " 'defn': 'NA',\n",
       " 'childs': [],\n",
       " 'parents': ['1143554706'],\n",
       " 'index': [{'indexTerm_title': 'Family history of consanguinity',\n",
       "   'indexTerm_foundation_id': 'NA'}],\n",
       " 'pcs': [],\n",
       " 'is_leaf_node': True,\n",
       " 'has_children': 0,\n",
       " 'has_parents': 1}"
      ]
     },
     "execution_count": 4,
     "metadata": {},
     "output_type": "execute_result"
    }
   ],
   "source": [
    "Data[0]"
   ]
  },
  {
   "cell_type": "code",
   "execution_count": 5,
   "metadata": {},
   "outputs": [],
   "source": [
    "for doc in Data:\n",
    "    if(doc['ID'] == \"other\"):\n",
    "        del(doc)\n",
    "    elif(\"other\" in doc['ID'] or \"unspecified\" in doc['ID']):\n",
    "        pos = doc['ID'].find(\"/\")\n",
    "        doc['ID'] = doc['ID'][:pos]\n",
    "    else:\n",
    "        continue"
   ]
  },
  {
   "cell_type": "code",
   "execution_count": 6,
   "metadata": {},
   "outputs": [],
   "source": [
    "cardio_list = list()"
   ]
  },
  {
   "cell_type": "code",
   "execution_count": 7,
   "metadata": {},
   "outputs": [],
   "source": [
    "def extract_cardio(cardio):\n",
    "    for doc in Data:\n",
    "        if(doc['ID'] == cardio):\n",
    "            cardio_list.append(doc)\n",
    "            l = len(doc['childs'])\n",
    "            if(l > 0):\n",
    "                for i in range(l):\n",
    "                    extract_cardio(doc['childs'][i])"
   ]
  },
  {
   "cell_type": "code",
   "execution_count": 8,
   "metadata": {},
   "outputs": [],
   "source": [
    "for doc in Data:\n",
    "    if(doc['ID'] == \"426429380\"):\n",
    "        l = len(doc['childs'])\n",
    "        if(l > 0):\n",
    "            cardio_list.append(doc)\n",
    "            for i in range(l):\n",
    "                extract_cardio(doc['childs'][i])"
   ]
  },
  {
   "cell_type": "code",
   "execution_count": 9,
   "metadata": {},
   "outputs": [
    {
     "name": "stdout",
     "output_type": "stream",
     "text": [
      "{'ID': '426429380', 'code': '11', 'title': 'Diseases of the circulatory system', 'defn': 'This refers to diseases of the organ system that passes nutrients (such as amino acids, electrolytes and lymph), gases, hormones, blood cells, etc. to and from cells in the body to help fight diseases, stabilize body temperature and pH, and to maintain homeostasis.', 'childs': ['539975693', '966120194', '924915526', '1663360295', '1964269418', '1059873720', '1703442464', '1296696944', '162683166', '1121431779', '291726710', '2135151223', '1457291912', '1458683894', '1164983645', '723430526', '1025888387', '1651137927', '1925333068', '426429380/other', '426429380/unspecified'], 'parents': ['mms'], 'index': [{'indexTerm_title': 'Other specified lower limb atherosclerosis', 'indexTerm_foundation_id': 'NA'}, {'indexTerm_title': 'Atherosclerosis of common or profunda femoral artery', 'indexTerm_foundation_id': '205736095'}, {'indexTerm_title': 'Atherosclerosis of superficial femoral artery', 'indexTerm_foundation_id': '866035180'}, {'indexTerm_title': 'Atherosclerosis of popliteal artery', 'indexTerm_foundation_id': '953806875'}, {'indexTerm_title': 'Atherosclerosis of crural artery', 'indexTerm_foundation_id': '442114688'}, {'indexTerm_title': 'Lower limb atherosclerosis with rest pain', 'indexTerm_foundation_id': '77628773'}, {'indexTerm_title': 'Peripheral vascular disease with rest pain', 'indexTerm_foundation_id': '77628773'}], 'pcs': [], 'is_leaf_node': False, 'has_children': 21, 'has_parents': 1}\n"
     ]
    }
   ],
   "source": [
    "print(cardio_list[0])"
   ]
  },
  {
   "cell_type": "code",
   "execution_count": 10,
   "metadata": {},
   "outputs": [],
   "source": [
    "import networkx as nx"
   ]
  },
  {
   "cell_type": "code",
   "execution_count": 12,
   "metadata": {},
   "outputs": [],
   "source": [
    "G = nx.Graph()\n",
    "for doc in cardio_list:\n",
    "    G.add_node(doc['ID'],\\\n",
    "               title = doc['title'],\\\n",
    "               code = doc['code'],\\\n",
    "               defn = doc['defn'],\\\n",
    "               childs = doc['childs'],\\\n",
    "               parents = doc['parents'])\n",
    "    \n",
    "for doc in cardio_list:\n",
    "    childs = doc['childs']\n",
    "    doc_id = doc['ID']\n",
    "    for c_id in childs:\n",
    "        G.add_edge(doc_id, c_id)"
   ]
  },
  {
   "cell_type": "code",
   "execution_count": null,
   "metadata": {},
   "outputs": [],
   "source": []
  }
 ],
 "metadata": {
  "kernelspec": {
   "display_name": "Python 3",
   "language": "python",
   "name": "python3"
  },
  "language_info": {
   "codemirror_mode": {
    "name": "ipython",
    "version": 3
   },
   "file_extension": ".py",
   "mimetype": "text/x-python",
   "name": "python",
   "nbconvert_exporter": "python",
   "pygments_lexer": "ipython3",
   "version": "3.7.4"
  }
 },
 "nbformat": 4,
 "nbformat_minor": 2
}
