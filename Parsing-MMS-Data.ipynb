{
 "cells": [
  {
   "cell_type": "markdown",
   "metadata": {},
   "source": [
    "### Parsing MMS Data"
   ]
  },
  {
   "cell_type": "code",
   "execution_count": 1,
   "metadata": {},
   "outputs": [],
   "source": [
    "import time\n",
    "import json as json\n",
    "import collections"
   ]
  },
  {
   "cell_type": "code",
   "execution_count": 2,
   "metadata": {},
   "outputs": [],
   "source": [
    "with open(\"Data/icd11_mms.json\", 'r') as f:\n",
    "    Data =  json.load(f) "
   ]
  },
  {
   "cell_type": "code",
   "execution_count": 3,
   "metadata": {},
   "outputs": [
    {
     "data": {
      "text/plain": [
       "33577"
      ]
     },
     "execution_count": 3,
     "metadata": {},
     "output_type": "execute_result"
    }
   ],
   "source": [
    "len(Data)"
   ]
  },
  {
   "cell_type": "code",
   "execution_count": 4,
   "metadata": {
    "scrolled": false
   },
   "outputs": [],
   "source": [
    "DATA =[]\n",
    "id2title = {}\n",
    "id2index = {}\n",
    "id2pcs = {}\n",
    "id2defn = {}\n",
    "id2code = {}\n",
    "id2data = {}\n",
    "\n",
    "for item in Data:\n",
    "    \n",
    "    data = {}\n",
    "    \n",
    "    idterm = str(item['@id'].split(\"/\")[-1])\n",
    "    \n",
    "    if idterm.encode('utf-8') in [\"other\",\"unspecified\"]:\n",
    "        ID = str(item['@id'].split(\"/\")[-2]) + \"/\" + idterm\n",
    "    else:\n",
    "        ID = idterm\n",
    "        \n",
    "    \n",
    "    try:\n",
    "        code = str(item['code'])\n",
    "        id2code.update({ID:code})\n",
    "    except:\n",
    "        code = \"NA\"\n",
    "        id2code.update({ID:code})\n",
    "        \n",
    "    \n",
    "    title = item['title'][\"@value\"]\n",
    "    id2title.update({ID:title})\n",
    "    \n",
    "    try:\n",
    "        index_term =item['indexTerm'] \n",
    "        INDEX_TERM = []\n",
    "        for it in index_term:\n",
    "            try:\n",
    "                index_term_title = str(it['label']['@value'])\n",
    "            except:\n",
    "                index_term_title = \"NA\"\n",
    "            try:\n",
    "                index_term_foundation_id = str(it['foundationReference'].split(\"/\")[-1])\n",
    "            except:\n",
    "                index_term_foundation_id  = \"NA\"\n",
    "                \n",
    "            INDEX_TERM.append({\"indexTerm_title\":index_term_title,\\\n",
    "                              \"indexTerm_foundation_id\":index_term_foundation_id})\n",
    "        id2index.update({ID:INDEX_TERM})\n",
    "    except:\n",
    "        index_term = []\n",
    "        id2index.update({ID:INDEX_TERM})\n",
    "        \n",
    "        \n",
    "        \n",
    "    try:\n",
    "        defn = str(item['definition']['@value'])\n",
    "    except:\n",
    "        defn = \"NA\"\n",
    "        \n",
    "    id2defn.update({ID:defn})\n",
    "        \n",
    "        \n",
    "    is_leaf_node = False   \n",
    "    \n",
    "    try:   \n",
    "        childs = item['child']\n",
    "        if len(childs) > 0:\n",
    "            CHILDS = []\n",
    "            for c in childs:\n",
    "                child_idterm = str(c.split(\"/\")[-1])\n",
    "                if child_idterm in [\"other\",\"unspecified\"]:\n",
    "                    CHILDS.append(str(c.split(\"/\")[-2]) + \"/\" + str(c.split(\"/\")[-1]))\n",
    "                else:\n",
    "                    CHILDS.append(str(c.split(\"/\")[-1]))\n",
    "            has_children = len(CHILDS)\n",
    "        else:\n",
    "            CHILDS = []\n",
    "            has_children = 0\n",
    "            is_leaf_node = True\n",
    "    except:\n",
    "        CHILDS = []\n",
    "        is_leaf_node = True\n",
    "        has_children = 0\n",
    "        \n",
    "    try:\n",
    "        parents = item['parent']\n",
    "        if len(parents)>0:\n",
    "            PARENTS = []\n",
    "            for p in parents:\n",
    "                PARENTS.append(str(p.split(\"/\")[-1]))\n",
    "        \n",
    "            has_parents = len(parents)\n",
    "        else:\n",
    "            PARENTS =[]\n",
    "            has_parents = 0\n",
    "    except:\n",
    "        PARENTS = []\n",
    "        has_parents = 0\n",
    "        \n",
    "       \n",
    "    \n",
    "    \n",
    "    try: \n",
    "        POST_COORDINATION_SCALE = []\n",
    "        postcoordinationScale = item['postcoordinationScale']\n",
    "        for pcs in postcoordinationScale:\n",
    "            try:\n",
    "                allowMultipleValues = str(pcs['allowMultipleValues'])\n",
    "            except:\n",
    "                allowMultipleValues = \"NA\"\n",
    "            try:\n",
    "                axisName = str(pcs['axisName'].split(\"/\")[-1])\n",
    "            except:\n",
    "                axisName = \"NA\"\n",
    "            try:\n",
    "                requiredPostcoordination = str(pcs['requiredPostcoordination'])\n",
    "            except:\n",
    "                requiredPostcoordination = \"NA\"\n",
    "            try:\n",
    "                scaleEntity = pcs['scaleEntity']\n",
    "                SCALE_ENTITY = []\n",
    "                if len(scaleEntity)>0:\n",
    "                    for e in scaleEntity:\n",
    "                        #print(e)\n",
    "                        idterm = str(e.split(\"/\")[-1])\n",
    "                        if idterm in [\"other\",\"unspecified\"]:\n",
    "                            SCALE_ENTITY.append(str(e.split(\"/\")[-2]) + \"/\" + idterm)\n",
    "                        else:\n",
    "                            SCALE_ENTITY.append(idterm)\n",
    "            except:\n",
    "                SCALE_ENTITY = []\n",
    "                \n",
    "            POST_COORDINATION_SCALE.append({\"allowMultipleValues\":allowMultipleValues,\\\n",
    "                                           \"axisName\":axisName,\\\n",
    "                                           \"requiredPostcoordination\":requiredPostcoordination,\\\n",
    "                                           \"scaleEntity\": SCALE_ENTITY})\n",
    "            \n",
    "        id2pcs.update({ID:POST_COORDINATION_SCALE})\n",
    "            \n",
    "            \n",
    "    except:\n",
    "        POST_COORDINATION_SCALE = []\n",
    "        id2pcs.update({ID:POST_COORDINATION_SCALE})\n",
    "    \n",
    "            \n",
    "    #print(POST_COORDINATION_SCALE)\n",
    "    \n",
    "    data = {\"ID\": ID,\\\n",
    "                 \"code\" : code,\\\n",
    "                 \"title\": title,\\\n",
    "                 \"defn\":defn,\\\n",
    "                 \"childs\": CHILDS,\\\n",
    "                 \"parents\":PARENTS,\\\n",
    "                 \"index\":INDEX_TERM,\\\n",
    "                 \"pcs\":POST_COORDINATION_SCALE,\\\n",
    "                 \"is_leaf_node\":is_leaf_node,\\\n",
    "                 \"has_children\":has_children,\\\n",
    "                 \"has_parents\":has_parents}\n",
    "    \n",
    "    DATA.append(data)\n",
    "    id2data.update({ID:data})\n"
   ]
  },
  {
   "cell_type": "code",
   "execution_count": 5,
   "metadata": {
    "scrolled": false
   },
   "outputs": [],
   "source": [
    "#DATA[10:20]"
   ]
  },
  {
   "cell_type": "code",
   "execution_count": 6,
   "metadata": {
    "scrolled": false
   },
   "outputs": [],
   "source": [
    "#Data[10:20]"
   ]
  },
  {
   "cell_type": "code",
   "execution_count": 7,
   "metadata": {},
   "outputs": [],
   "source": [
    "with open(\"Data/MMS_rv.json\",'w')as wf:\n",
    "    json.dump(DATA,wf)"
   ]
  },
  {
   "cell_type": "code",
   "execution_count": 8,
   "metadata": {},
   "outputs": [],
   "source": [
    "with open(\"Data/id2title.json\",'w')as wf:\n",
    "    json.dump(id2title,wf)"
   ]
  },
  {
   "cell_type": "code",
   "execution_count": 9,
   "metadata": {},
   "outputs": [],
   "source": [
    "with open(\"Data/id2defn.json\",'w')as wf:\n",
    "    json.dump(id2defn,wf)"
   ]
  },
  {
   "cell_type": "code",
   "execution_count": 10,
   "metadata": {},
   "outputs": [],
   "source": [
    "with open(\"Data/id2pcs.json\",'w')as wf:\n",
    "    json.dump(id2pcs,wf)"
   ]
  },
  {
   "cell_type": "code",
   "execution_count": 11,
   "metadata": {},
   "outputs": [],
   "source": [
    "with open(\"Data/id2index.json\",'w')as wf:\n",
    "    json.dump(id2index,wf)"
   ]
  },
  {
   "cell_type": "code",
   "execution_count": 12,
   "metadata": {},
   "outputs": [],
   "source": [
    "with open(\"Data/id2code.json\",'w')as wf:\n",
    "    json.dump(id2code,wf)"
   ]
  },
  {
   "cell_type": "code",
   "execution_count": 13,
   "metadata": {},
   "outputs": [],
   "source": [
    "with open(\"Data/id2data.json\",'w')as wf:\n",
    "    json.dump(id2data,wf)"
   ]
  }
 ],
 "metadata": {
  "kernelspec": {
   "display_name": "Python 3",
   "language": "python",
   "name": "python3"
  },
  "language_info": {
   "codemirror_mode": {
    "name": "ipython",
    "version": 3
   },
   "file_extension": ".py",
   "mimetype": "text/x-python",
   "name": "python",
   "nbconvert_exporter": "python",
   "pygments_lexer": "ipython3",
   "version": "3.7.4"
  }
 },
 "nbformat": 4,
 "nbformat_minor": 2
}
